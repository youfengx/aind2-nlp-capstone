{
 "cells": [
  {
   "cell_type": "markdown",
   "metadata": {
    "collapsed": true
   },
   "source": [
    "# Artificial Intelligence Nanodegree\n",
    "## Machine Translation Project\n",
    "In this notebook, sections that end with **'(IMPLEMENTATION)'** in the header indicate that the following blocks of code will require additional functionality which you must provide. Please be sure to read the instructions carefully!\n",
    "\n",
    "## Introduction\n",
    "In this notebook, you will build a deep neural network that functions as part of an end-to-end machine translation pipeline. Your completed pipeline will accept English text as input and return the French translation.\n",
    "\n",
    "- **Preprocess** - You'll convert text to sequence of integers.\n",
    "- **Models** Create models which accepts a sequence of integers as input and returns a probability distribution over possible translations. After learning about the basic types of neural networks that are often used for machine translation, you will engage in your own investigations, to design your own model!\n",
    "- **Prediction** Run the model on English text."
   ]
  },
  {
   "cell_type": "code",
   "execution_count": 1,
   "metadata": {},
   "outputs": [],
   "source": [
    "%load_ext autoreload\n",
    "%aimport helper, tests\n",
    "%autoreload 1"
   ]
  },
  {
   "cell_type": "code",
   "execution_count": 2,
   "metadata": {},
   "outputs": [
    {
     "name": "stderr",
     "output_type": "stream",
     "text": [
      "Using TensorFlow backend.\n"
     ]
    }
   ],
   "source": [
    "import collections\n",
    "\n",
    "import helper\n",
    "import numpy as np\n",
    "import project_tests as tests\n",
    "\n",
    "from keras.preprocessing.text import Tokenizer\n",
    "from keras.preprocessing.sequence import pad_sequences\n",
    "from keras.models import Model\n",
    "from keras.layers import GRU, Input, Dense, TimeDistributed, Activation, RepeatVector, Bidirectional\n",
    "from keras.layers.embeddings import Embedding\n",
    "from keras.optimizers import Adam\n",
    "from keras.losses import sparse_categorical_crossentropy"
   ]
  },
  {
   "cell_type": "markdown",
   "metadata": {},
   "source": [
    "### Verify access to the GPU\n",
    "The following test applies only if you expect to be using a GPU, e.g., while running in a Udacity Workspace or using an AWS instance with GPU support. Run the next cell, and verify that the device_type is \"GPU\".\n",
    "- If the device is not GPU & you are running from a Udacity Workspace, then save your workspace with the icon at the top, then click \"enable\" at the bottom of the workspace.\n",
    "- If the device is not GPU & you are running from an AWS instance, then refer to the cloud computing instructions in the classroom to verify your setup steps."
   ]
  },
  {
   "cell_type": "code",
   "execution_count": 3,
   "metadata": {},
   "outputs": [
    {
     "name": "stdout",
     "output_type": "stream",
     "text": [
      "[name: \"/cpu:0\"\n",
      "device_type: \"CPU\"\n",
      "memory_limit: 268435456\n",
      "locality {\n",
      "}\n",
      "incarnation: 5665009248188299455\n",
      ", name: \"/gpu:0\"\n",
      "device_type: \"GPU\"\n",
      "memory_limit: 357433344\n",
      "locality {\n",
      "  bus_id: 1\n",
      "}\n",
      "incarnation: 845136098915973951\n",
      "physical_device_desc: \"device: 0, name: Tesla K80, pci bus id: 0000:00:04.0\"\n",
      "]\n"
     ]
    }
   ],
   "source": [
    "from tensorflow.python.client import device_lib\n",
    "print(device_lib.list_local_devices())"
   ]
  },
  {
   "cell_type": "markdown",
   "metadata": {},
   "source": [
    "## Dataset\n",
    "We begin by investigating the dataset that will be used to train and evaluate your pipeline.  The most common datasets used for machine translation are from [WMT](http://www.statmt.org/).  However, that will take a long time to train a neural network on.  We'll be using a dataset we created for this project that contains a small vocabulary.  You'll be able to train your model in a reasonable time with this dataset.\n",
    "### Load Data\n",
    "The data is located in `data/small_vocab_en` and `data/small_vocab_fr`. The `small_vocab_en` file contains English sentences with their French translations in the `small_vocab_fr` file. Load the English and French data from these files from running the cell below."
   ]
  },
  {
   "cell_type": "code",
   "execution_count": 4,
   "metadata": {},
   "outputs": [
    {
     "name": "stdout",
     "output_type": "stream",
     "text": [
      "Dataset Loaded\n"
     ]
    }
   ],
   "source": [
    "# Load English data\n",
    "english_sentences = helper.load_data('data/small_vocab_en')\n",
    "# Load French data\n",
    "french_sentences = helper.load_data('data/small_vocab_fr')\n",
    "\n",
    "print('Dataset Loaded')"
   ]
  },
  {
   "cell_type": "markdown",
   "metadata": {},
   "source": [
    "### Files\n",
    "Each line in `small_vocab_en` contains an English sentence with the respective translation in each line of `small_vocab_fr`.  View the first two lines from each file."
   ]
  },
  {
   "cell_type": "code",
   "execution_count": 5,
   "metadata": {},
   "outputs": [
    {
     "name": "stdout",
     "output_type": "stream",
     "text": [
      "small_vocab_en Line 1:  new jersey is sometimes quiet during autumn , and it is snowy in april .\n",
      "small_vocab_fr Line 1:  new jersey est parfois calme pendant l' automne , et il est neigeux en avril .\n",
      "small_vocab_en Line 2:  the united states is usually chilly during july , and it is usually freezing in november .\n",
      "small_vocab_fr Line 2:  les états-unis est généralement froid en juillet , et il gèle habituellement en novembre .\n"
     ]
    }
   ],
   "source": [
    "for sample_i in range(2):\n",
    "    print('small_vocab_en Line {}:  {}'.format(sample_i + 1, english_sentences[sample_i]))\n",
    "    print('small_vocab_fr Line {}:  {}'.format(sample_i + 1, french_sentences[sample_i]))"
   ]
  },
  {
   "cell_type": "markdown",
   "metadata": {},
   "source": [
    "From looking at the sentences, you can see they have been preprocessed already.  The puncuations have been delimited using spaces. All the text have been converted to lowercase.  This should save you some time, but the text requires more preprocessing.\n",
    "### Vocabulary\n",
    "The complexity of the problem is determined by the complexity of the vocabulary.  A more complex vocabulary is a more complex problem.  Let's look at the complexity of the dataset we'll be working with."
   ]
  },
  {
   "cell_type": "code",
   "execution_count": 6,
   "metadata": {},
   "outputs": [
    {
     "name": "stdout",
     "output_type": "stream",
     "text": [
      "1823250 English words.\n",
      "227 unique English words.\n",
      "10 Most common words in the English dataset:\n",
      "\"is\" \",\" \".\" \"in\" \"it\" \"during\" \"the\" \"but\" \"and\" \"sometimes\"\n",
      "\n",
      "1961295 French words.\n",
      "355 unique French words.\n",
      "10 Most common words in the French dataset:\n",
      "\"est\" \".\" \",\" \"en\" \"il\" \"les\" \"mais\" \"et\" \"la\" \"parfois\"\n"
     ]
    }
   ],
   "source": [
    "english_words_counter = collections.Counter([word for sentence in english_sentences for word in sentence.split()])\n",
    "french_words_counter = collections.Counter([word for sentence in french_sentences for word in sentence.split()])\n",
    "\n",
    "print('{} English words.'.format(len([word for sentence in english_sentences for word in sentence.split()])))\n",
    "print('{} unique English words.'.format(len(english_words_counter)))\n",
    "print('10 Most common words in the English dataset:')\n",
    "print('\"' + '\" \"'.join(list(zip(*english_words_counter.most_common(10)))[0]) + '\"')\n",
    "print()\n",
    "print('{} French words.'.format(len([word for sentence in french_sentences for word in sentence.split()])))\n",
    "print('{} unique French words.'.format(len(french_words_counter)))\n",
    "print('10 Most common words in the French dataset:')\n",
    "print('\"' + '\" \"'.join(list(zip(*french_words_counter.most_common(10)))[0]) + '\"')"
   ]
  },
  {
   "cell_type": "markdown",
   "metadata": {},
   "source": [
    "For comparison, _Alice's Adventures in Wonderland_ contains 2,766 unique words of a total of 15,500 words.\n",
    "## Preprocess\n",
    "For this project, you won't use text data as input to your model. Instead, you'll convert the text into sequences of integers using the following preprocess methods:\n",
    "1. Tokenize the words into ids\n",
    "2. Add padding to make all the sequences the same length.\n",
    "\n",
    "Time to start preprocessing the data...\n",
    "### Tokenize (IMPLEMENTATION)\n",
    "For a neural network to predict on text data, it first has to be turned into data it can understand. Text data like \"dog\" is a sequence of ASCII character encodings.  Since a neural network is a series of multiplication and addition operations, the input data needs to be number(s).\n",
    "\n",
    "We can turn each character into a number or each word into a number.  These are called character and word ids, respectively.  Character ids are used for character level models that generate text predictions for each character.  A word level model uses word ids that generate text predictions for each word.  Word level models tend to learn better, since they are lower in complexity, so we'll use those.\n",
    "\n",
    "Turn each sentence into a sequence of words ids using Keras's [`Tokenizer`](https://keras.io/preprocessing/text/#tokenizer) function. Use this function to tokenize `english_sentences` and `french_sentences` in the cell below.\n",
    "\n",
    "Running the cell will run `tokenize` on sample data and show output for debugging."
   ]
  },
  {
   "cell_type": "code",
   "execution_count": 7,
   "metadata": {
    "scrolled": true
   },
   "outputs": [
    {
     "name": "stdout",
     "output_type": "stream",
     "text": [
      "{'the': 1, 'quick': 2, 'a': 3, 'brown': 4, 'fox': 5, 'jumps': 6, 'over': 7, 'lazy': 8, 'dog': 9, 'by': 10, 'jove': 11, 'my': 12, 'study': 13, 'of': 14, 'lexicography': 15, 'won': 16, 'prize': 17, 'this': 18, 'is': 19, 'short': 20, 'sentence': 21}\n",
      "\n",
      "Sequence 1 in x\n",
      "  Input:  The quick brown fox jumps over the lazy dog .\n",
      "  Output: [1, 2, 4, 5, 6, 7, 1, 8, 9]\n",
      "Sequence 2 in x\n",
      "  Input:  By Jove , my quick study of lexicography won a prize .\n",
      "  Output: [10, 11, 12, 2, 13, 14, 15, 16, 3, 17]\n",
      "Sequence 3 in x\n",
      "  Input:  This is a short sentence .\n",
      "  Output: [18, 19, 3, 20, 21]\n"
     ]
    }
   ],
   "source": [
    "def tokenize(x):\n",
    "    \"\"\"\n",
    "    Tokenize x\n",
    "    :param x: List of sentences/strings to be tokenized\n",
    "    :return: Tuple of (tokenized x data, tokenizer used to tokenize x)\n",
    "    \"\"\"\n",
    "    # TODO: Implement\n",
    "    tokenizer = Tokenizer()\n",
    "    tokenizer.fit_on_texts(x)\n",
    "    tokenized = tokenizer.texts_to_sequences(x)\n",
    "    \n",
    "    return tokenized,tokenizer\n",
    "tests.test_tokenize(tokenize)\n",
    "\n",
    "# Tokenize Example output\n",
    "text_sentences = [\n",
    "    'The quick brown fox jumps over the lazy dog .',\n",
    "    'By Jove , my quick study of lexicography won a prize .',\n",
    "    'This is a short sentence .']\n",
    "text_tokenized, text_tokenizer = tokenize(text_sentences)\n",
    "print(text_tokenizer.word_index)\n",
    "print()\n",
    "for sample_i, (sent, token_sent) in enumerate(zip(text_sentences, text_tokenized)):\n",
    "    print('Sequence {} in x'.format(sample_i + 1))\n",
    "    print('  Input:  {}'.format(sent))\n",
    "    print('  Output: {}'.format(token_sent))"
   ]
  },
  {
   "cell_type": "markdown",
   "metadata": {},
   "source": [
    "### Padding (IMPLEMENTATION)\n",
    "When batching the sequence of word ids together, each sequence needs to be the same length.  Since sentences are dynamic in length, we can add padding to the end of the sequences to make them the same length.\n",
    "\n",
    "Make sure all the English sequences have the same length and all the French sequences have the same length by adding padding to the **end** of each sequence using Keras's [`pad_sequences`](https://keras.io/preprocessing/sequence/#pad_sequences) function."
   ]
  },
  {
   "cell_type": "code",
   "execution_count": 9,
   "metadata": {},
   "outputs": [
    {
     "name": "stdout",
     "output_type": "stream",
     "text": [
      "Sequence 1 in x\n",
      "  Input:  [1 2 4 5 6 7 1 8 9]\n",
      "  Output: [1 2 4 5 6 7 1 8 9 0]\n",
      "Sequence 2 in x\n",
      "  Input:  [10 11 12  2 13 14 15 16  3 17]\n",
      "  Output: [10 11 12  2 13 14 15 16  3 17]\n",
      "Sequence 3 in x\n",
      "  Input:  [18 19  3 20 21]\n",
      "  Output: [18 19  3 20 21  0  0  0  0  0]\n"
     ]
    }
   ],
   "source": [
    "def pad(x, length=None):\n",
    "    \"\"\"\n",
    "    Pad x\n",
    "    :param x: List of sequences.\n",
    "    :param length: Length to pad the sequence to.  If None, use length of longest sequence in x.\n",
    "    :return: Padded numpy array of sequences\n",
    "    \"\"\"\n",
    "    # TODO: Implement\n",
    "    if length == None:\n",
    "        length = len(max(x, key=len)) #Calculate length of longest sequence in x\n",
    "    x = pad_sequences(x, padding=\"post\", maxlen= length)\n",
    "    return x\n",
    "tests.test_pad(pad)\n",
    "\n",
    "# Pad Tokenized output\n",
    "test_pad = pad(text_tokenized)\n",
    "for sample_i, (token_sent, pad_sent) in enumerate(zip(text_tokenized, test_pad)):\n",
    "    print('Sequence {} in x'.format(sample_i + 1))\n",
    "    print('  Input:  {}'.format(np.array(token_sent)))\n",
    "    print('  Output: {}'.format(pad_sent))"
   ]
  },
  {
   "cell_type": "markdown",
   "metadata": {},
   "source": [
    "### Preprocess Pipeline\n",
    "Your focus for this project is to build neural network architecture, so we won't ask you to create a preprocess pipeline.  Instead, we've provided you with the implementation of the `preprocess` function."
   ]
  },
  {
   "cell_type": "code",
   "execution_count": 10,
   "metadata": {},
   "outputs": [
    {
     "name": "stdout",
     "output_type": "stream",
     "text": [
      "Data Preprocessed\n",
      "Max English sentence length: 15\n",
      "Max French sentence length: 21\n",
      "English vocabulary size: 199\n",
      "French vocabulary size: 344\n"
     ]
    }
   ],
   "source": [
    "def preprocess(x, y):\n",
    "    \"\"\"\n",
    "    Preprocess x and y\n",
    "    :param x: Feature List of sentences\n",
    "    :param y: Label List of sentences\n",
    "    :return: Tuple of (Preprocessed x, Preprocessed y, x tokenizer, y tokenizer)\n",
    "    \"\"\"\n",
    "    preprocess_x, x_tk = tokenize(x)\n",
    "    preprocess_y, y_tk = tokenize(y)\n",
    "\n",
    "    preprocess_x = pad(preprocess_x)\n",
    "    preprocess_y = pad(preprocess_y)\n",
    "\n",
    "    # Keras's sparse_categorical_crossentropy function requires the labels to be in 3 dimensions\n",
    "    preprocess_y = preprocess_y.reshape(*preprocess_y.shape, 1)\n",
    "\n",
    "    return preprocess_x, preprocess_y, x_tk, y_tk\n",
    "\n",
    "preproc_english_sentences, preproc_french_sentences, english_tokenizer, french_tokenizer =\\\n",
    "    preprocess(english_sentences, french_sentences)\n",
    "    \n",
    "max_english_sequence_length = preproc_english_sentences.shape[1]\n",
    "max_french_sequence_length = preproc_french_sentences.shape[1]\n",
    "english_vocab_size = len(english_tokenizer.word_index)\n",
    "french_vocab_size = len(french_tokenizer.word_index)\n",
    "\n",
    "print('Data Preprocessed')\n",
    "print(\"Max English sentence length:\", max_english_sequence_length)\n",
    "print(\"Max French sentence length:\", max_french_sequence_length)\n",
    "print(\"English vocabulary size:\", english_vocab_size)\n",
    "print(\"French vocabulary size:\", french_vocab_size)"
   ]
  },
  {
   "cell_type": "markdown",
   "metadata": {},
   "source": [
    "## Models\n",
    "In this section, you will experiment with various neural network architectures.\n",
    "You will begin by training four relatively simple architectures.\n",
    "- Model 1 is a simple RNN\n",
    "- Model 2 is a RNN with Embedding\n",
    "- Model 3 is a Bidirectional RNN\n",
    "- Model 4 is an optional Encoder-Decoder RNN\n",
    "\n",
    "After experimenting with the four simple architectures, you will construct a deeper architecture that is designed to outperform all four models.\n",
    "### Ids Back to Text\n",
    "The neural network will be translating the input to words ids, which isn't the final form we want.  We want the French translation.  The function `logits_to_text` will bridge the gab between the logits from the neural network to the French translation.  You'll be using this function to better understand the output of the neural network."
   ]
  },
  {
   "cell_type": "code",
   "execution_count": 11,
   "metadata": {},
   "outputs": [
    {
     "name": "stdout",
     "output_type": "stream",
     "text": [
      "`logits_to_text` function loaded.\n"
     ]
    }
   ],
   "source": [
    "def logits_to_text(logits, tokenizer):\n",
    "    \"\"\"\n",
    "    Turn logits from a neural network into text using the tokenizer\n",
    "    :param logits: Logits from a neural network\n",
    "    :param tokenizer: Keras Tokenizer fit on the labels\n",
    "    :return: String that represents the text of the logits\n",
    "    \"\"\"\n",
    "    index_to_words = {id: word for word, id in tokenizer.word_index.items()}\n",
    "    index_to_words[0] = '<PAD>'\n",
    "\n",
    "    return ' '.join([index_to_words[prediction] for prediction in np.argmax(logits, 1)])\n",
    "\n",
    "print('`logits_to_text` function loaded.')"
   ]
  },
  {
   "cell_type": "markdown",
   "metadata": {},
   "source": [
    "### Model 1: RNN (IMPLEMENTATION)\n",
    "![RNN](images/rnn.png)\n",
    "A basic RNN model is a good baseline for sequence data.  In this model, you'll build a RNN that translates English to French."
   ]
  },
  {
   "cell_type": "markdown",
   "metadata": {},
   "source": [
    "\n",
    "from keras.preprocessing.text import Tokenizer\n",
    "from keras.preprocessing.sequence import pad_sequences\n",
    "from keras.models import Model\n",
    "from keras.layers import GRU, Input, Dense, TimeDistributed, Activation, RepeatVector, Bidirectional\n",
    "from keras.layers.embeddings import Embedding\n",
    "from keras.optimizers import Adam\n",
    "from keras.losses import sparse_categorical_crossentropy"
   ]
  },
  {
   "cell_type": "code",
   "execution_count": 14,
   "metadata": {},
   "outputs": [
    {
     "name": "stdout",
     "output_type": "stream",
     "text": [
      "Train on 110288 samples, validate on 27573 samples\n",
      "Epoch 1/10\n",
      "110288/110288 [==============================] - 11s 104us/step - loss: 1.7122 - acc: 0.5762 - val_loss: 1.2329 - val_acc: 0.6462\n",
      "Epoch 2/10\n",
      "110288/110288 [==============================] - 11s 101us/step - loss: 1.1140 - acc: 0.6615 - val_loss: 1.0271 - val_acc: 0.6796\n",
      "Epoch 3/10\n",
      "110288/110288 [==============================] - 11s 101us/step - loss: 0.9903 - acc: 0.6809 - val_loss: 0.9424 - val_acc: 0.6971\n",
      "Epoch 4/10\n",
      "110288/110288 [==============================] - 11s 101us/step - loss: 0.9230 - acc: 0.6940 - val_loss: 0.9138 - val_acc: 0.6898\n",
      "Epoch 5/10\n",
      "110288/110288 [==============================] - 11s 101us/step - loss: 0.8753 - acc: 0.7048 - val_loss: 0.8495 - val_acc: 0.7199\n",
      "Epoch 6/10\n",
      "110288/110288 [==============================] - 11s 101us/step - loss: 0.8336 - acc: 0.7163 - val_loss: 0.8290 - val_acc: 0.7158\n",
      "Epoch 7/10\n",
      "110288/110288 [==============================] - 11s 101us/step - loss: 0.7906 - acc: 0.7331 - val_loss: 0.7710 - val_acc: 0.7431\n",
      "Epoch 8/10\n",
      "110288/110288 [==============================] - 11s 101us/step - loss: 0.7383 - acc: 0.7514 - val_loss: 0.6958 - val_acc: 0.7732\n",
      "Epoch 9/10\n",
      "110288/110288 [==============================] - 11s 101us/step - loss: 0.7228 - acc: 0.7584 - val_loss: 0.8134 - val_acc: 0.7184\n",
      "Epoch 10/10\n",
      "110288/110288 [==============================] - 11s 101us/step - loss: 0.7290 - acc: 0.7513 - val_loss: 0.8009 - val_acc: 0.7220\n",
      "new jersey est parfois calme en mois de mai et il est neigeux en novembre <PAD> <PAD> <PAD> <PAD> <PAD> <PAD>\n"
     ]
    }
   ],
   "source": [
    "def simple_model(input_shape, output_sequence_length, english_vocab_size, french_vocab_size):\n",
    "    \"\"\"\n",
    "    Build and train a basic RNN on x and y\n",
    "    :param input_shape: Tuple of input shape\n",
    "    :param output_sequence_length: Length of output sequence\n",
    "    :param english_vocab_size: Number of unique English words in the dataset\n",
    "    :param french_vocab_size: Number of unique French words in the dataset\n",
    "    :return: Keras model built, but not trained\n",
    "    \n",
    "    \"\"\"\n",
    "    # TODO: Build the layers\n",
    "    # Tried learning rates 0.001 and 0.003 but were converging too slowly\n",
    "    learning_rate = 0.01\n",
    "    \n",
    "    inputs = Input(shape=input_shape[1:]) # shape should omit first dimension of input_shape, which is the number of entries\n",
    "    x = GRU(256,return_sequences=True)(inputs) # set return_sequence=True to return outputs at all time steps\n",
    "    x = TimeDistributed(Dense(french_vocab_size))(x) # use TimeDistributed layer to \"collect\" all outputs \n",
    "    outputs = Activation('softmax')(x)\n",
    "    \n",
    "    model = Model(inputs=inputs, outputs=outputs)\n",
    "    \n",
    "    model.compile(loss=sparse_categorical_crossentropy,\n",
    "                  optimizer=Adam(learning_rate),\n",
    "                  metrics=['accuracy'])\n",
    "    return model\n",
    "tests.test_simple_model(simple_model)\n",
    "\n",
    "# Reshaping the input to work with a basic RNN\n",
    "tmp_x = pad(preproc_english_sentences, max_french_sequence_length)\n",
    "# for GRU, each data pt needs to be in 2-D [timestep, feature]\n",
    "tmp_x = tmp_x.reshape((-1, preproc_french_sentences.shape[-2], 1)) \n",
    "\n",
    "# Train the neural network\n",
    "simple_rnn_model = simple_model(\n",
    "    tmp_x.shape,\n",
    "    max_french_sequence_length,\n",
    "    english_vocab_size+1, #Need to add 1 to vocab sizes to include padding character\n",
    "    french_vocab_size+1)\n",
    "\n",
    "simple_rnn_model.fit(tmp_x, preproc_french_sentences, batch_size=1024, epochs=10, validation_split=0.2)\n",
    "\n",
    "# Print prediction(s)\n",
    "print(logits_to_text(simple_rnn_model.predict(tmp_x[:1])[0], french_tokenizer))"
   ]
  },
  {
   "cell_type": "markdown",
   "metadata": {},
   "source": [
    "### Model 2: Embedding (IMPLEMENTATION)\n",
    "![RNN](images/embedding.png)\n",
    "You've turned the words into ids, but there's a better representation of a word.  This is called word embeddings.  An embedding is a vector representation of the word that is close to similar words in n-dimensional space, where the n represents the size of the embedding vectors.\n",
    "\n",
    "In this model, you'll create a RNN model using embedding."
   ]
  },
  {
   "cell_type": "code",
   "execution_count": 20,
   "metadata": {},
   "outputs": [
    {
     "name": "stdout",
     "output_type": "stream",
     "text": [
      "Train on 110288 samples, validate on 27573 samples\n",
      "Epoch 1/10\n",
      "110288/110288 [==============================] - 15s 132us/step - loss: 1.4482 - acc: 0.6833 - val_loss: 0.4212 - val_acc: 0.8671\n",
      "Epoch 2/10\n",
      "110288/110288 [==============================] - 14s 125us/step - loss: 0.3220 - acc: 0.8952 - val_loss: 0.2616 - val_acc: 0.9138\n",
      "Epoch 3/10\n",
      "110288/110288 [==============================] - 14s 126us/step - loss: 0.2429 - acc: 0.9188 - val_loss: 0.2320 - val_acc: 0.9223\n",
      "Epoch 4/10\n",
      "110288/110288 [==============================] - 14s 125us/step - loss: 0.2180 - acc: 0.9256 - val_loss: 0.2228 - val_acc: 0.9246\n",
      "Epoch 5/10\n",
      "110288/110288 [==============================] - 14s 126us/step - loss: 0.2071 - acc: 0.9284 - val_loss: 0.2066 - val_acc: 0.9289\n",
      "Epoch 6/10\n",
      "110288/110288 [==============================] - 14s 125us/step - loss: 0.1958 - acc: 0.9316 - val_loss: 0.1999 - val_acc: 0.9307\n",
      "Epoch 7/10\n",
      "110288/110288 [==============================] - 14s 126us/step - loss: 0.1938 - acc: 0.9320 - val_loss: 0.2077 - val_acc: 0.9294\n",
      "Epoch 8/10\n",
      "110288/110288 [==============================] - 14s 126us/step - loss: 0.1987 - acc: 0.9306 - val_loss: 0.2088 - val_acc: 0.9296\n",
      "Epoch 9/10\n",
      "110288/110288 [==============================] - 14s 126us/step - loss: 0.1918 - acc: 0.9327 - val_loss: 0.2023 - val_acc: 0.9311\n",
      "Epoch 10/10\n",
      "110288/110288 [==============================] - 14s 126us/step - loss: 0.1917 - acc: 0.9328 - val_loss: 0.2022 - val_acc: 0.9308\n",
      "new jersey est parfois calme en l' automne et il est neigeux en avril <PAD> <PAD> <PAD> <PAD> <PAD> <PAD> <PAD>\n"
     ]
    }
   ],
   "source": [
    "def embed_model(input_shape, output_sequence_length, english_vocab_size, french_vocab_size):\n",
    "    \"\"\"\n",
    "    Build and train a RNN model using word embedding on x and y\n",
    "    :param input_shape: Tuple of input shape\n",
    "    :param output_sequence_length: Length of output sequence\n",
    "    :param english_vocab_size: Number of unique English words in the dataset\n",
    "    :param french_vocab_size: Number of unique French words in the dataset\n",
    "    :return: Keras model built, but not trained\n",
    "    \"\"\"\n",
    "    # TODO: Implement\n",
    "    learning_rate = 0.01\n",
    "    \n",
    "    inputs = Input(shape=input_shape[1:])\n",
    "    # Add 1 to vocab size for padding character; chose output_dim=200 to give decent accuracy\n",
    "    x = Embedding(input_dim=(english_vocab_size+1), output_dim=200, input_length= output_sequence_length)(inputs)\n",
    "    x = GRU(256,return_sequences=True)(x)\n",
    "    x = TimeDistributed(Dense(french_vocab_size))(x)\n",
    "    outputs = Activation('softmax')(x)\n",
    "    \n",
    "    model = Model(inputs=inputs, outputs=outputs)\n",
    "    \n",
    "    model.compile(loss=sparse_categorical_crossentropy,\n",
    "                  optimizer=Adam(learning_rate),\n",
    "                  metrics=['accuracy'])\n",
    "    return model\n",
    "tests.test_embed_model(embed_model)\n",
    "\n",
    "\n",
    "# TODO: Reshape the input\n",
    "tmp_x = pad(preproc_english_sentences, max_french_sequence_length)\n",
    "# No need to reshape each entry into 2-D as the embedding layer will add the second dimension\n",
    "#tmp_x = tmp_x.reshape((-1, preproc_french_sentences.shape[-2], 1))\n",
    "\n",
    "\n",
    "# TODO: Train the neural network\n",
    "embedding_rnn_model = embed_model(\n",
    "    tmp_x.shape,\n",
    "    max_french_sequence_length,\n",
    "    english_vocab_size+1, # Add 1 to vocab sizes to take into account padding character\n",
    "    french_vocab_size+1)\n",
    "\n",
    "embedding_rnn_model.fit(tmp_x, preproc_french_sentences, batch_size=1024, epochs=10, validation_split=0.2)\n",
    "\n",
    "\n",
    "#TODO: Print prediction(s)\n",
    "print(logits_to_text(embedding_rnn_model.predict(tmp_x[:1])[0], french_tokenizer))"
   ]
  },
  {
   "cell_type": "markdown",
   "metadata": {},
   "source": [
    "### Model 3: Bidirectional RNNs (IMPLEMENTATION)\n",
    "![RNN](images/bidirectional.png)\n",
    "One restriction of a RNN is that it can't see the future input, only the past.  This is where bidirectional recurrent neural networks come in.  They are able to see the future data."
   ]
  },
  {
   "cell_type": "code",
   "execution_count": 12,
   "metadata": {},
   "outputs": [
    {
     "name": "stdout",
     "output_type": "stream",
     "text": [
      "Train on 110288 samples, validate on 27573 samples\n",
      "Epoch 1/10\n",
      "110288/110288 [==============================] - 21s 189us/step - loss: 1.4587 - acc: 0.6187 - val_loss: 1.0733 - val_acc: 0.6700\n",
      "Epoch 2/10\n",
      "110288/110288 [==============================] - 18s 166us/step - loss: 0.9824 - acc: 0.6864 - val_loss: 0.9010 - val_acc: 0.7008\n",
      "Epoch 3/10\n",
      "110288/110288 [==============================] - 18s 166us/step - loss: 0.8695 - acc: 0.7050 - val_loss: 0.8439 - val_acc: 0.7095\n",
      "Epoch 4/10\n",
      "110288/110288 [==============================] - 18s 166us/step - loss: 0.8051 - acc: 0.7159 - val_loss: 0.8031 - val_acc: 0.7143\n",
      "Epoch 5/10\n",
      "110288/110288 [==============================] - 18s 166us/step - loss: 0.7456 - acc: 0.7309 - val_loss: 0.7028 - val_acc: 0.7468\n",
      "Epoch 6/10\n",
      "110288/110288 [==============================] - 18s 166us/step - loss: 0.7168 - acc: 0.7388 - val_loss: 0.6617 - val_acc: 0.7649\n",
      "Epoch 7/10\n",
      "110288/110288 [==============================] - 18s 166us/step - loss: 0.6842 - acc: 0.7469 - val_loss: 0.6600 - val_acc: 0.7544\n",
      "Epoch 8/10\n",
      "110288/110288 [==============================] - 18s 166us/step - loss: 0.6516 - acc: 0.7572 - val_loss: 0.7480 - val_acc: 0.7199\n",
      "Epoch 9/10\n",
      "110288/110288 [==============================] - 18s 166us/step - loss: 0.6320 - acc: 0.7662 - val_loss: 0.6224 - val_acc: 0.7756\n",
      "Epoch 10/10\n",
      "110288/110288 [==============================] - 18s 166us/step - loss: 0.6131 - acc: 0.7738 - val_loss: 0.5891 - val_acc: 0.7770\n",
      "new jersey est parfois calme au mars et il est est en juillet <PAD> <PAD> <PAD> <PAD> <PAD> <PAD> <PAD> <PAD>\n"
     ]
    }
   ],
   "source": [
    "def bd_model(input_shape, output_sequence_length, english_vocab_size, french_vocab_size):\n",
    "    \"\"\"\n",
    "    Build and train a bidirectional RNN model on x and y\n",
    "    :param input_shape: Tuple of input shape\n",
    "    :param output_sequence_length: Length of output sequence\n",
    "    :param english_vocab_size: Number of unique English words in the dataset\n",
    "    :param french_vocab_size: Number of unique French words in the dataset\n",
    "    :return: Keras model built, but not trained\n",
    "    \"\"\"\n",
    "    # TODO: Implement\n",
    "    learning_rate = 0.01\n",
    "    \n",
    "    inputs = Input(shape=input_shape[1:])\n",
    "    #Apply Bidirectional layer to GRU\n",
    "    x = Bidirectional(GRU(256,return_sequences=True))(inputs)\n",
    "    x = TimeDistributed(Dense(french_vocab_size))(x)\n",
    "    outputs = Activation('softmax')(x)\n",
    "    \n",
    "    model = Model(inputs=inputs, outputs=outputs)\n",
    "    \n",
    "    model.compile(loss=sparse_categorical_crossentropy,\n",
    "                  optimizer=Adam(learning_rate),\n",
    "                  metrics=['accuracy'])\n",
    "    return model\n",
    "\n",
    "tests.test_bd_model(bd_model)\n",
    "\n",
    "\n",
    "# TODO: Train and Print prediction(s)\n",
    "# Reshaping the input to work with a basic RNN\n",
    "tmp_x = pad(preproc_english_sentences, max_french_sequence_length)\n",
    "tmp_x = tmp_x.reshape((-1, preproc_french_sentences.shape[-2], 1))\n",
    "\n",
    "# Train the neural network\n",
    "bd_rnn_model = bd_model(\n",
    "    tmp_x.shape,\n",
    "    max_french_sequence_length,\n",
    "    english_vocab_size+1,\n",
    "    french_vocab_size+1)\n",
    "\n",
    "bd_rnn_model.fit(tmp_x, preproc_french_sentences, batch_size=1024, epochs=10, validation_split=0.2)\n",
    "\n",
    "# Print prediction(s)\n",
    "print(logits_to_text(bd_rnn_model.predict(tmp_x[:1])[0], french_tokenizer))\n"
   ]
  },
  {
   "cell_type": "markdown",
   "metadata": {},
   "source": [
    "### Model 4: Encoder-Decoder (OPTIONAL)\n",
    "Time to look at encoder-decoder models.  This model is made up of an encoder and decoder. The encoder creates a matrix representation of the sentence.  The decoder takes this matrix as input and predicts the translation as output.\n",
    "\n",
    "Create an encoder-decoder model in the cell below."
   ]
  },
  {
   "cell_type": "code",
   "execution_count": 27,
   "metadata": {},
   "outputs": [
    {
     "name": "stdout",
     "output_type": "stream",
     "text": [
      "_________________________________________________________________\n",
      "Layer (type)                 Output Shape              Param #   \n",
      "=================================================================\n",
      "input_15 (InputLayer)        (None, 15, 1)             0         \n",
      "_________________________________________________________________\n",
      "gru_28 (GRU)                 (None, 256)               198144    \n",
      "_________________________________________________________________\n",
      "repeat_vector_14 (RepeatVect (None, 21, 256)           0         \n",
      "_________________________________________________________________\n",
      "gru_29 (GRU)                 (None, 21, 256)           393984    \n",
      "_________________________________________________________________\n",
      "time_distributed_14 (TimeDis (None, 21, 345)           88665     \n",
      "_________________________________________________________________\n",
      "activation_14 (Activation)   (None, 21, 345)           0         \n",
      "=================================================================\n",
      "Total params: 680,793\n",
      "Trainable params: 680,793\n",
      "Non-trainable params: 0\n",
      "_________________________________________________________________\n",
      "Train on 110288 samples, validate on 27573 samples\n",
      "Epoch 1/10\n",
      "110288/110288 [==============================] - 19s 176us/step - loss: 2.4434 - acc: 0.4629 - val_loss: 1.8236 - val_acc: 0.5396\n",
      "Epoch 2/10\n",
      "110288/110288 [==============================] - 18s 165us/step - loss: 1.5493 - acc: 0.5867 - val_loss: 1.4009 - val_acc: 0.6136\n",
      "Epoch 3/10\n",
      "110288/110288 [==============================] - 18s 165us/step - loss: 1.3189 - acc: 0.6280 - val_loss: 1.2649 - val_acc: 0.6381\n",
      "Epoch 4/10\n",
      "110288/110288 [==============================] - 18s 165us/step - loss: 1.3072 - acc: 0.6292 - val_loss: 1.2522 - val_acc: 0.6397\n",
      "Epoch 5/10\n",
      "110288/110288 [==============================] - 18s 165us/step - loss: 1.1956 - acc: 0.6522 - val_loss: 1.2328 - val_acc: 0.6409\n",
      "Epoch 6/10\n",
      "110288/110288 [==============================] - 18s 165us/step - loss: 1.1284 - acc: 0.6670 - val_loss: 1.2016 - val_acc: 0.6452\n",
      "Epoch 7/10\n",
      "110288/110288 [==============================] - 18s 165us/step - loss: 1.1061 - acc: 0.6643 - val_loss: 1.1321 - val_acc: 0.6640\n",
      "Epoch 8/10\n",
      "110288/110288 [==============================] - 18s 165us/step - loss: 1.0554 - acc: 0.6767 - val_loss: 1.0208 - val_acc: 0.6890\n",
      "Epoch 9/10\n",
      "110288/110288 [==============================] - 18s 165us/step - loss: 1.0312 - acc: 0.6844 - val_loss: 1.0072 - val_acc: 0.6901\n",
      "Epoch 10/10\n",
      "110288/110288 [==============================] - 18s 165us/step - loss: 0.9946 - acc: 0.6924 - val_loss: 0.9209 - val_acc: 0.7159\n",
      "new jersey est parfois calme en l' et il est est en en <PAD> <PAD> <PAD> <PAD> <PAD> <PAD> <PAD> <PAD>\n"
     ]
    }
   ],
   "source": [
    "def encdec_model(input_shape, output_sequence_length, english_vocab_size, french_vocab_size):\n",
    "    \"\"\"\n",
    "    Build and train an encoder-decoder model on x and y\n",
    "    :param input_shape: Tuple of input shape\n",
    "    :param output_sequence_length: Length of output sequence\n",
    "    :param english_vocab_size: Number of unique English words in the dataset\n",
    "    :param french_vocab_size: Number of unique French words in the dataset\n",
    "    :return: Keras model built, but not trained\n",
    "    \"\"\"\n",
    "    # OPTIONAL: Implement\n",
    "    learning_rate = 0.01\n",
    "    \n",
    "    inputs = Input(shape=input_shape[1:])\n",
    "    encoder_outputs = GRU(256)(inputs)\n",
    "    #Feed encoder outputs to GRU as inputs at every timestep\n",
    "    decoder_inputs = RepeatVector(output_sequence_length)(encoder_outputs)\n",
    "    x = GRU(256, return_sequences=True)(decoder_inputs)\n",
    "    x = TimeDistributed(Dense(french_vocab_size))(x)\n",
    "    outputs = Activation('softmax')(x)\n",
    "    \n",
    "    model = Model(inputs=inputs, outputs=outputs)\n",
    "    \n",
    "    model.compile(loss=sparse_categorical_crossentropy,\n",
    "                  optimizer=Adam(learning_rate),\n",
    "                  metrics=['accuracy'])\n",
    "    \n",
    "    \n",
    "    return model\n",
    "tests.test_encdec_model(encdec_model)\n",
    "\n",
    "\n",
    "# OPTIONAL: Train and Print prediction(s)\n",
    "# Reshaping the input to work with a basic RNN\n",
    "tmp_x = preproc_english_sentences\n",
    "tmp_x = tmp_x.reshape((-1, preproc_english_sentences.shape[-1], 1))\n",
    "\n",
    "# Train the neural network\n",
    "encdec_rnn_model = encdec_model(\n",
    "    tmp_x.shape,\n",
    "    max_french_sequence_length,\n",
    "    english_vocab_size+1,\n",
    "    french_vocab_size+1)\n",
    "\n",
    "encdec_rnn_model.summary()\n",
    "encdec_rnn_model.fit(tmp_x, preproc_french_sentences, batch_size=1024, epochs=10, validation_split=0.2)\n",
    "\n",
    "# Print prediction(s)\n",
    "print(logits_to_text(encdec_rnn_model.predict(tmp_x[:1])[0], french_tokenizer))\n",
    "\n"
   ]
  },
  {
   "cell_type": "markdown",
   "metadata": {},
   "source": [
    "### Model 5: Custom (IMPLEMENTATION)\n",
    "Use everything you learned from the previous models to create a model that incorporates embedding and a bidirectional rnn into one model."
   ]
  },
  {
   "cell_type": "code",
   "execution_count": 12,
   "metadata": {},
   "outputs": [
    {
     "name": "stdout",
     "output_type": "stream",
     "text": [
      "Final Model Loaded\n",
      "_________________________________________________________________\n",
      "Layer (type)                 Output Shape              Param #   \n",
      "=================================================================\n",
      "input_2 (InputLayer)         (None, 15)                0         \n",
      "_________________________________________________________________\n",
      "embedding_2 (Embedding)      (None, 21, 200)           40200     \n",
      "_________________________________________________________________\n",
      "bidirectional_3 (Bidirection (None, 512)               701952    \n",
      "_________________________________________________________________\n",
      "repeat_vector_2 (RepeatVecto (None, 21, 512)           0         \n",
      "_________________________________________________________________\n",
      "bidirectional_4 (Bidirection (None, 21, 512)           1181184   \n",
      "_________________________________________________________________\n",
      "time_distributed_2 (TimeDist (None, 21, 345)           176985    \n",
      "_________________________________________________________________\n",
      "activation_2 (Activation)    (None, 21, 345)           0         \n",
      "=================================================================\n",
      "Total params: 2,100,321\n",
      "Trainable params: 2,100,321\n",
      "Non-trainable params: 0\n",
      "_________________________________________________________________\n",
      "Train on 110288 samples, validate on 27573 samples\n",
      "Epoch 1/10\n",
      "110288/110288 [==============================] - 43s 386us/step - loss: 2.0749 - acc: 0.5331 - val_loss: 1.1572 - val_acc: 0.6778\n",
      "Epoch 2/10\n",
      "110288/110288 [==============================] - 40s 362us/step - loss: 0.8451 - acc: 0.7580 - val_loss: 0.5501 - val_acc: 0.8383\n",
      "Epoch 3/10\n",
      "110288/110288 [==============================] - 40s 362us/step - loss: 0.3929 - acc: 0.8862 - val_loss: 0.2527 - val_acc: 0.9293\n",
      "Epoch 4/10\n",
      "110288/110288 [==============================] - 40s 362us/step - loss: 0.1956 - acc: 0.9447 - val_loss: 0.1795 - val_acc: 0.9483\n",
      "Epoch 5/10\n",
      "110288/110288 [==============================] - 40s 362us/step - loss: 0.1626 - acc: 0.9528 - val_loss: 0.1727 - val_acc: 0.9489\n",
      "Epoch 6/10\n",
      "110288/110288 [==============================] - 40s 362us/step - loss: 0.1200 - acc: 0.9649 - val_loss: 0.1188 - val_acc: 0.9668\n",
      "Epoch 7/10\n",
      "110288/110288 [==============================] - 40s 362us/step - loss: 0.1355 - acc: 0.9601 - val_loss: 0.1325 - val_acc: 0.9617\n",
      "Epoch 8/10\n",
      "110288/110288 [==============================] - 40s 362us/step - loss: 0.1168 - acc: 0.9658 - val_loss: 0.1241 - val_acc: 0.9642\n",
      "Epoch 9/10\n",
      "110288/110288 [==============================] - 40s 362us/step - loss: 0.1015 - acc: 0.9701 - val_loss: 0.1008 - val_acc: 0.9707\n",
      "Epoch 10/10\n",
      "110288/110288 [==============================] - 40s 362us/step - loss: 0.0808 - acc: 0.9762 - val_loss: 0.1008 - val_acc: 0.9717\n",
      "new jersey est parfois calme pendant l' automne et il est neigeux en avril <PAD> <PAD> <PAD> <PAD> <PAD> <PAD> <PAD>\n"
     ]
    }
   ],
   "source": [
    "def model_final(input_shape, output_sequence_length, english_vocab_size, french_vocab_size):\n",
    "    \"\"\"\n",
    "    Build and train a model that incorporates embedding, encoder-decoder, and bidirectional RNN on x and y\n",
    "    :param input_shape: Tuple of input shape\n",
    "    :param output_sequence_length: Length of output sequence\n",
    "    :param english_vocab_size: Number of unique English words in the dataset\n",
    "    :param french_vocab_size: Number of unique French words in the dataset\n",
    "    :return: Keras model built, but not trained\n",
    "    \"\"\"\n",
    "    # TODO: Implement\n",
    "    learning_rate = 0.01\n",
    "    \n",
    "    inputs = Input(shape=input_shape[1:])\n",
    "    #Add Embedding later\n",
    "    x = Embedding(input_dim=(english_vocab_size+1), output_dim=200, input_length= output_sequence_length)(inputs)\n",
    "    #Apply Birectional layer to GRU in encoder\n",
    "    encoder_outputs = Bidirectional(GRU(256))(x)\n",
    "    #Feed encoder outputs to decoder\n",
    "    decoder_inputs = RepeatVector(output_sequence_length)(encoder_outputs)\n",
    "    #Apply Birectional layer to GRU in decoder\n",
    "    x = Bidirectional(GRU(256,return_sequences=True))(decoder_inputs)\n",
    "    #Collect outputs from GRU across all timesteps\n",
    "    x = TimeDistributed(Dense(french_vocab_size))(x)\n",
    "    outputs = Activation('softmax')(x)\n",
    "    \n",
    "    model = Model(inputs=inputs, outputs=outputs)\n",
    "    \n",
    "    model.compile(loss=sparse_categorical_crossentropy,\n",
    "                  optimizer=Adam(learning_rate),\n",
    "                  metrics=['accuracy'])\n",
    "    \n",
    "    return model\n",
    "tests.test_model_final(model_final)\n",
    "\n",
    "print('Final Model Loaded')\n",
    "\n",
    "# TODO: Train the final model\n",
    "tmp_x = preproc_english_sentences\n",
    "\n",
    "# Train the neural network\n",
    "final_rnn_model = model_final(\n",
    "    tmp_x.shape,\n",
    "    max_french_sequence_length,\n",
    "    english_vocab_size+1,\n",
    "    french_vocab_size+1)\n",
    "\n",
    "final_rnn_model.summary()\n",
    "final_rnn_model.fit(tmp_x, preproc_french_sentences, batch_size=1024, epochs=10, validation_split=0.2)\n",
    "\n",
    "# Print prediction(s)\n",
    "print(logits_to_text(final_rnn_model.predict(tmp_x[:1])[0], french_tokenizer))\n",
    "\n",
    "\n",
    "\n"
   ]
  },
  {
   "cell_type": "markdown",
   "metadata": {},
   "source": [
    "## Prediction (IMPLEMENTATION)"
   ]
  },
  {
   "cell_type": "code",
   "execution_count": 13,
   "metadata": {},
   "outputs": [
    {
     "name": "stdout",
     "output_type": "stream",
     "text": [
      "Train on 110288 samples, validate on 27573 samples\n",
      "Epoch 1/10\n",
      "110288/110288 [==============================] - 43s 390us/step - loss: 2.0298 - acc: 0.5446 - val_loss: 1.0934 - val_acc: 0.7050\n",
      "Epoch 2/10\n",
      "110288/110288 [==============================] - 40s 365us/step - loss: 0.7717 - acc: 0.7807 - val_loss: 0.4845 - val_acc: 0.8553\n",
      "Epoch 3/10\n",
      "110288/110288 [==============================] - 40s 365us/step - loss: 0.3236 - acc: 0.9080 - val_loss: 0.2158 - val_acc: 0.9409\n",
      "Epoch 4/10\n",
      "110288/110288 [==============================] - 40s 366us/step - loss: 0.1978 - acc: 0.9441 - val_loss: 0.1551 - val_acc: 0.9561\n",
      "Epoch 5/10\n",
      "110288/110288 [==============================] - 40s 367us/step - loss: 0.1354 - acc: 0.9608 - val_loss: 0.1284 - val_acc: 0.9630\n",
      "Epoch 6/10\n",
      "110288/110288 [==============================] - 40s 366us/step - loss: 0.1157 - acc: 0.9661 - val_loss: 0.1190 - val_acc: 0.9658\n",
      "Epoch 7/10\n",
      "110288/110288 [==============================] - 40s 367us/step - loss: 0.1214 - acc: 0.9642 - val_loss: 0.1242 - val_acc: 0.9648\n",
      "Epoch 8/10\n",
      "110288/110288 [==============================] - 41s 368us/step - loss: 0.1334 - acc: 0.9609 - val_loss: 0.1479 - val_acc: 0.9571\n",
      "Epoch 9/10\n",
      "110288/110288 [==============================] - 41s 368us/step - loss: 0.1055 - acc: 0.9686 - val_loss: 0.1105 - val_acc: 0.9679\n",
      "Epoch 10/10\n",
      "110288/110288 [==============================] - 41s 368us/step - loss: 0.1039 - acc: 0.9694 - val_loss: 0.1092 - val_acc: 0.9687\n",
      "Sample 1:\n",
      "il a vu un vieux camion jaune <PAD> <PAD> <PAD> <PAD> <PAD> <PAD> <PAD> <PAD> <PAD> <PAD> <PAD> <PAD> <PAD> <PAD>\n",
      "Il a vu un vieux camion jaune\n",
      "Sample 2:\n",
      "new jersey est parfois calme à l'automne et il est neigeux en avril avril <PAD> <PAD> <PAD> <PAD> <PAD> <PAD> <PAD>\n",
      "new jersey est parfois calme pendant l' automne et il est neigeux en avril <PAD> <PAD> <PAD> <PAD> <PAD> <PAD> <PAD>\n"
     ]
    }
   ],
   "source": [
    "def final_predictions(x, y, x_tk, y_tk):\n",
    "    \"\"\"\n",
    "    Gets predictions using the final model\n",
    "    :param x: Preprocessed English data\n",
    "    :param y: Preprocessed French data\n",
    "    :param x_tk: English tokenizer\n",
    "    :param y_tk: French tokenizer\n",
    "    \"\"\"\n",
    "    # TODO: Train neural network using model_final\n",
    "    model = model_final(x.shape, y.shape[1], len(x_tk.word_index)+1, len(y_tk.word_index)+1)\n",
    "    model.fit(x, y, batch_size=1024, epochs=10, validation_split=0.2)\n",
    "    \n",
    "\n",
    "    ## DON'T EDIT ANYTHING BELOW THIS LINE\n",
    "    y_id_to_word = {value: key for key, value in y_tk.word_index.items()}\n",
    "    y_id_to_word[0] = '<PAD>'\n",
    "\n",
    "    sentence = 'he saw a old yellow truck'\n",
    "    sentence = [x_tk.word_index[word] for word in sentence.split()]\n",
    "    sentence = pad_sequences([sentence], maxlen=x.shape[-1], padding='post')\n",
    "    sentences = np.array([sentence[0], x[0]])\n",
    "    predictions = model.predict(sentences, len(sentences))\n",
    "\n",
    "    print('Sample 1:')\n",
    "    print(' '.join([y_id_to_word[np.argmax(x)] for x in predictions[0]]))\n",
    "    print('Il a vu un vieux camion jaune')\n",
    "    print('Sample 2:')\n",
    "    print(' '.join([y_id_to_word[np.argmax(x)] for x in predictions[1]]))\n",
    "    print(' '.join([y_id_to_word[np.max(x)] for x in y[0]]))\n",
    "\n",
    "\n",
    "final_predictions(preproc_english_sentences, preproc_french_sentences, english_tokenizer, french_tokenizer)"
   ]
  },
  {
   "cell_type": "markdown",
   "metadata": {},
   "source": [
    "## Submission\n",
    "When you're ready to submit, complete the following steps:\n",
    "1. Review the [rubric](https://review.udacity.com/#!/rubrics/1004/view) to ensure your submission meets all requirements to pass\n",
    "2. Generate an HTML version of this notebook\n",
    "\n",
    "  - Run the next cell to attempt automatic generation (this is the recommended method in Workspaces)\n",
    "  - Navigate to **FILE -> Download as -> HTML (.html)**\n",
    "  - Manually generate a copy using `nbconvert` from your shell terminal\n",
    "```\n",
    "$ pip install nbconvert\n",
    "$ python -m nbconvert machine_translation.ipynb\n",
    "```\n",
    "  \n",
    "3. Submit the project\n",
    "\n",
    "  - If you are in a Workspace, simply click the \"Submit Project\" button (bottom towards the right)\n",
    "  \n",
    "  - Otherwise, add the following files into a zip archive and submit them \n",
    "  - `helper.py`\n",
    "  - `machine_translation.ipynb`\n",
    "  - `machine_translation.html`\n",
    "    - You can export the notebook by navigating to **File -> Download as -> HTML (.html)**."
   ]
  },
  {
   "cell_type": "code",
   "execution_count": 2,
   "metadata": {},
   "outputs": [
    {
     "data": {
      "text/plain": [
       "['[NbConvertApp] Converting notebook machine_translation.ipynb to html',\n",
       " '[NbConvertApp] Writing 671546 bytes to machine_translation.html']"
      ]
     },
     "execution_count": 2,
     "metadata": {},
     "output_type": "execute_result"
    }
   ],
   "source": [
    "!!python -m nbconvert *.ipynb --to html"
   ]
  },
  {
   "cell_type": "markdown",
   "metadata": {},
   "source": [
    "## Optional Enhancements\n",
    "\n",
    "This project focuses on learning various network architectures for machine translation, but we don't evaluate the models according to best practices by splitting the data into separate test & training sets -- so the model accuracy is overstated. Use the [`sklearn.model_selection.train_test_split()`](http://scikit-learn.org/stable/modules/generated/sklearn.model_selection.train_test_split.html) function to create separate training & test datasets, then retrain each of the models using only the training set and evaluate the prediction accuracy using the hold out test set. Does the \"best\" model change?"
   ]
  }
 ],
 "metadata": {
  "kernelspec": {
   "display_name": "Python 3",
   "language": "python",
   "name": "python3"
  },
  "language_info": {
   "codemirror_mode": {
    "name": "ipython",
    "version": 3
   },
   "file_extension": ".py",
   "mimetype": "text/x-python",
   "name": "python",
   "nbconvert_exporter": "python",
   "pygments_lexer": "ipython3",
   "version": "3.8.5"
  }
 },
 "nbformat": 4,
 "nbformat_minor": 1
}
